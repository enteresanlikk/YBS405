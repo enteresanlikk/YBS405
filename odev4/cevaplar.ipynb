{
 "cells": [
  {
   "cell_type": "code",
   "execution_count": 1,
   "id": "e0f7725e",
   "metadata": {},
   "outputs": [],
   "source": [
    "import warnings\n",
    "warnings.filterwarnings('ignore')"
   ]
  },
  {
   "cell_type": "markdown",
   "id": "0039d2f3",
   "metadata": {},
   "source": [
    "# Ödev 4\n",
    "\n",
    "\"https://raw.githubusercontent.com/yasarkucukefe/YBS_405/main/data/ccdefault.csv\" adresinde bulunan veri setini kullanarak kredi kartı borcunun ödenip ödenmeyeceğini (DEFAULT kolonu) tahmin eden en az 3 adet sınıflandırma modeli (KNN, Naive Bayes, ve Karar Ağaçları, vb.) geliştirip başarı performanslarını (Precision ve Recall) değerlendiriniz. Başka sınıflandırma modelleri de kullanabilirsiniz."
   ]
  },
  {
   "cell_type": "code",
   "execution_count": 2,
   "id": "44513743",
   "metadata": {},
   "outputs": [],
   "source": [
    "import pandas as pd\n",
    "import numpy as np\n",
    "\n",
    "from sklearn.model_selection import train_test_split\n",
    "from sklearn.metrics import classification_report"
   ]
  },
  {
   "cell_type": "code",
   "execution_count": 3,
   "id": "8660f3e9",
   "metadata": {},
   "outputs": [],
   "source": [
    "df = pd.read_csv('https://raw.githubusercontent.com/yasarkucukefe/YBS_405/main/data/ccdefault.csv')"
   ]
  },
  {
   "cell_type": "code",
   "execution_count": 4,
   "id": "3de33957",
   "metadata": {},
   "outputs": [],
   "source": [
    "y = df['DEFAULT'].values\n",
    "x = df.drop(['DEFAULT'], axis = 1)"
   ]
  },
  {
   "cell_type": "code",
   "execution_count": 5,
   "id": "217bc5c9",
   "metadata": {},
   "outputs": [],
   "source": [
    "x_train, x_test, y_train, y_test = train_test_split(x, y, train_size = 0.74, test_size = 0.26, shuffle = False)"
   ]
  },
  {
   "cell_type": "markdown",
   "id": "8e9c6a55",
   "metadata": {},
   "source": [
    "## KNN"
   ]
  },
  {
   "cell_type": "code",
   "execution_count": 6,
   "id": "3e3f3776",
   "metadata": {},
   "outputs": [],
   "source": [
    "from sklearn.preprocessing import StandardScaler\n",
    "from sklearn.neighbors import KNeighborsClassifier"
   ]
  },
  {
   "cell_type": "code",
   "execution_count": 7,
   "id": "fa984fe4",
   "metadata": {},
   "outputs": [],
   "source": [
    "knn = KNeighborsClassifier(n_neighbors=4).fit(x_train, y_train)"
   ]
  },
  {
   "cell_type": "code",
   "execution_count": 8,
   "id": "eba5be6f",
   "metadata": {},
   "outputs": [],
   "source": [
    "knn_y_pred = knn.predict(x_test)"
   ]
  },
  {
   "cell_type": "code",
   "execution_count": 9,
   "id": "85ff8c5c",
   "metadata": {},
   "outputs": [
    {
     "name": "stdout",
     "output_type": "stream",
     "text": [
      "Eğitim verisi doğruluk oranı: 81.21%\n",
      "Test verisi doğruluk oranı: 78.53%\n"
     ]
    }
   ],
   "source": [
    "print(\"Eğitim verisi doğruluk oranı: \"+str(\"{:.2%}\".format(knn.score(x_train, y_train))))\n",
    "print(\"Test verisi doğruluk oranı: \"+str(\"{:.2%}\".format(knn.score(x_test, y_test))))"
   ]
  },
  {
   "cell_type": "code",
   "execution_count": 10,
   "id": "c024e044",
   "metadata": {},
   "outputs": [
    {
     "name": "stdout",
     "output_type": "stream",
     "text": [
      "              precision    recall  f1-score   support\n",
      "\n",
      "           0       0.80      0.96      0.88      6200\n",
      "           1       0.40      0.09      0.15      1600\n",
      "\n",
      "    accuracy                           0.79      7800\n",
      "   macro avg       0.60      0.53      0.51      7800\n",
      "weighted avg       0.72      0.79      0.73      7800\n",
      "\n"
     ]
    }
   ],
   "source": [
    "print(classification_report(y_test, knn_y_pred))"
   ]
  },
  {
   "cell_type": "markdown",
   "id": "e99781bf",
   "metadata": {},
   "source": [
    "## Naive Bayes"
   ]
  },
  {
   "cell_type": "code",
   "execution_count": 11,
   "id": "47718437",
   "metadata": {},
   "outputs": [],
   "source": [
    "from sklearn.naive_bayes import GaussianNB"
   ]
  },
  {
   "cell_type": "code",
   "execution_count": 12,
   "id": "5efcff0d",
   "metadata": {},
   "outputs": [],
   "source": [
    "nb = GaussianNB().fit(x_train, y_train)"
   ]
  },
  {
   "cell_type": "code",
   "execution_count": 13,
   "id": "88f064ff",
   "metadata": {},
   "outputs": [],
   "source": [
    "nb_y_pred = nb.predict(x_test)"
   ]
  },
  {
   "cell_type": "code",
   "execution_count": 14,
   "id": "72e868df",
   "metadata": {},
   "outputs": [
    {
     "name": "stdout",
     "output_type": "stream",
     "text": [
      "Eğitim verisi doğruluk oranı: 39.28%\n",
      "Test verisi doğruluk oranı: 41.09%\n"
     ]
    }
   ],
   "source": [
    "print(\"Eğitim verisi doğruluk oranı: \"+str(\"{:.2%}\".format(nb.score(x_train, y_train))))\n",
    "print(\"Test verisi doğruluk oranı: \"+str(\"{:.2%}\".format(nb.score(x_test, y_test))))"
   ]
  },
  {
   "cell_type": "code",
   "execution_count": 15,
   "id": "75217b04",
   "metadata": {},
   "outputs": [
    {
     "name": "stdout",
     "output_type": "stream",
     "text": [
      "              precision    recall  f1-score   support\n",
      "\n",
      "           0       0.88      0.30      0.45      6200\n",
      "           1       0.24      0.83      0.37      1600\n",
      "\n",
      "    accuracy                           0.41      7800\n",
      "   macro avg       0.56      0.57      0.41      7800\n",
      "weighted avg       0.74      0.41      0.43      7800\n",
      "\n"
     ]
    }
   ],
   "source": [
    "print(classification_report(y_test, nb_y_pred))"
   ]
  },
  {
   "cell_type": "markdown",
   "id": "89b15e45",
   "metadata": {},
   "source": [
    "## Decision Trees"
   ]
  },
  {
   "cell_type": "code",
   "execution_count": 16,
   "id": "354a0198",
   "metadata": {},
   "outputs": [],
   "source": [
    "from sklearn.tree import DecisionTreeClassifier"
   ]
  },
  {
   "cell_type": "code",
   "execution_count": 17,
   "id": "3b82df50",
   "metadata": {},
   "outputs": [],
   "source": [
    "dt = DecisionTreeClassifier(criterion='entropy', random_state=0, max_leaf_nodes=7).fit(x_train, y_train)"
   ]
  },
  {
   "cell_type": "code",
   "execution_count": 18,
   "id": "75f21889",
   "metadata": {},
   "outputs": [],
   "source": [
    "dt_y_pred = dt.predict(x_test)"
   ]
  },
  {
   "cell_type": "code",
   "execution_count": 19,
   "id": "95a89431",
   "metadata": {},
   "outputs": [
    {
     "name": "stdout",
     "output_type": "stream",
     "text": [
      "Eğitim verisi doğruluk oranı: 81.44%\n",
      "Test verisi doğruluk oranı: 83.45%\n"
     ]
    }
   ],
   "source": [
    "print(\"Eğitim verisi doğruluk oranı: \"+str(\"{:.2%}\".format(dt.score(x_train, y_train))))\n",
    "print(\"Test verisi doğruluk oranı: \"+str(\"{:.2%}\".format(dt.score(x_test, y_test))))"
   ]
  },
  {
   "cell_type": "code",
   "execution_count": 20,
   "id": "91be8f28",
   "metadata": {},
   "outputs": [
    {
     "name": "stdout",
     "output_type": "stream",
     "text": [
      "              precision    recall  f1-score   support\n",
      "\n",
      "           0       0.85      0.97      0.90      6200\n",
      "           1       0.72      0.32      0.44      1600\n",
      "\n",
      "    accuracy                           0.83      7800\n",
      "   macro avg       0.78      0.64      0.67      7800\n",
      "weighted avg       0.82      0.83      0.81      7800\n",
      "\n"
     ]
    }
   ],
   "source": [
    "print(classification_report(y_test, dt_y_pred))"
   ]
  }
 ],
 "metadata": {
  "kernelspec": {
   "display_name": "Python 3 (ipykernel)",
   "language": "python",
   "name": "python3"
  },
  "language_info": {
   "codemirror_mode": {
    "name": "ipython",
    "version": 3
   },
   "file_extension": ".py",
   "mimetype": "text/x-python",
   "name": "python",
   "nbconvert_exporter": "python",
   "pygments_lexer": "ipython3",
   "version": "3.9.9"
  }
 },
 "nbformat": 4,
 "nbformat_minor": 5
}
